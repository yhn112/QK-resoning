{
 "cells": [
  {
   "cell_type": "code",
   "execution_count": 2,
   "id": "c37386b7-c86d-42fd-a8d4-7853bb025d21",
   "metadata": {},
   "outputs": [
    {
     "name": "stdout",
     "output_type": "stream",
     "text": [
      "True\n"
     ]
    }
   ],
   "source": [
    "from collections import defaultdict\n",
    "import numpy as np\n",
    "import pandas as pd\n",
    "import random\n",
    "import re\n",
    "from tqdm import tqdm\n",
    "import torch\n",
    "#from transformers import LlamaTokenizer, LlamaForCausalLM\n",
    "from transformers import AutoTokenizer, AutoModelForCausalLM, Qwen2ForCausalLM, Qwen2Tokenizer\n",
    "\n",
    "import os\n",
    "import pickle\n",
    "import matplotlib.pyplot as plt\n",
    "\n",
    "#os.environ[\"REQUESTS_CA_BUNDLE\"] = \"/etc/ssl/certs/ca-certificates.crt\"\n",
    "#os.environ[\"SSL_CERT_FILE\"] = \"/etc/ssl/certs/ca-certificates.crt\"\n",
    "\n",
    "import random\n",
    "import json\n",
    "import seaborn as sbn\n",
    "\n",
    "STORAGE_DIR = \"cache/\"\n",
    "device = 'cuda:4'\n",
    "print(torch.cuda.is_available())"
   ]
  },
  {
   "cell_type": "code",
   "execution_count": 3,
   "id": "e60bafba-de21-4d9c-967a-f2a121e277ac",
   "metadata": {},
   "outputs": [
    {
     "name": "stderr",
     "output_type": "stream",
     "text": [
      "`torch_dtype` is deprecated! Use `dtype` instead!\n"
     ]
    },
    {
     "data": {
      "application/vnd.jupyter.widget-view+json": {
       "model_id": "1844dd34faca42bdb5927e4f6d1c1832",
       "version_major": 2,
       "version_minor": 0
      },
      "text/plain": [
       "Loading checkpoint shards:   0%|          | 0/8 [00:00<?, ?it/s]"
      ]
     },
     "metadata": {},
     "output_type": "display_data"
    }
   ],
   "source": [
    "model = AutoModelForCausalLM.from_pretrained(\"Qwen/Qwen3-14B\",\n",
    "                                      #   cache_dir=\"/mnt/hdd_drive/huggingface/hub/\",\n",
    "                                         torch_dtype=torch.float16\n",
    "                                       #  token=MY_TOKEN\n",
    "                                        )\n",
    "tokenizer = AutoTokenizer.from_pretrained(\"Qwen/Qwen3-14B\",\n",
    "                                     #       cache_dir=\"/mnt/hdd_drive/huggingface/hub/\"\n",
    "                                     #    token=MY_TOKEN\n",
    "                                        )\n",
    "model = model.to(device)"
   ]
  },
  {
   "cell_type": "code",
   "execution_count": 4,
   "id": "c6e0720b-ca06-43c2-bbcc-467d1b42c95f",
   "metadata": {},
   "outputs": [
    {
     "name": "stdout",
     "output_type": "stream",
     "text": [
      "40 40 128 5\n",
      "[32 33 34 35]\n"
     ]
    }
   ],
   "source": [
    "LAYER_NUM = model.config.num_hidden_layers\n",
    "HEAD_NUM = model.config.num_attention_heads\n",
    "\n",
    "HEAD_SPAN = model.config.hidden_size // model.config.num_attention_heads\n",
    "\n",
    "# !! CHANGE the following line if you use this code with models implementing Grouped query attention\n",
    "QUERIES_PER_KEY = model.config.num_attention_heads // model.config.num_key_value_heads\n",
    "\n",
    "print(LAYER_NUM, HEAD_NUM, HEAD_SPAN, QUERIES_PER_KEY)\n",
    "\n",
    "OPTIONS = [\"A\", \"B\", \"C\", \"D\"] #, \"E\", \"F\", \"G\", \"H\", \"I\", \"J\"]\n",
    "LETTER_TOKENS = np.array([tokenizer(x)['input_ids'][-1] for x in OPTIONS])\n",
    "print(LETTER_TOKENS)\n",
    "\n",
    "#model = model.to(device)\n",
    "prunned_head = torch.nn.Parameter(model.lm_head.weight[np.hstack([LETTER_TOKENS,])], requires_grad=False)"
   ]
  },
  {
   "cell_type": "code",
   "execution_count": 5,
   "id": "b67fc943-78a0-491b-9dc4-7f8eeed3ccd3",
   "metadata": {},
   "outputs": [
    {
     "data": {
      "text/plain": [
       "Qwen3ForCausalLM(\n",
       "  (model): Qwen3Model(\n",
       "    (embed_tokens): Embedding(151936, 5120)\n",
       "    (layers): ModuleList(\n",
       "      (0-39): 40 x Qwen3DecoderLayer(\n",
       "        (self_attn): Qwen3Attention(\n",
       "          (q_proj): Linear(in_features=5120, out_features=5120, bias=False)\n",
       "          (k_proj): Linear(in_features=5120, out_features=1024, bias=False)\n",
       "          (v_proj): Linear(in_features=5120, out_features=1024, bias=False)\n",
       "          (o_proj): Linear(in_features=5120, out_features=5120, bias=False)\n",
       "          (q_norm): Qwen3RMSNorm((128,), eps=1e-06)\n",
       "          (k_norm): Qwen3RMSNorm((128,), eps=1e-06)\n",
       "        )\n",
       "        (mlp): Qwen3MLP(\n",
       "          (gate_proj): Linear(in_features=5120, out_features=17408, bias=False)\n",
       "          (up_proj): Linear(in_features=5120, out_features=17408, bias=False)\n",
       "          (down_proj): Linear(in_features=17408, out_features=5120, bias=False)\n",
       "          (act_fn): SiLU()\n",
       "        )\n",
       "        (input_layernorm): Qwen3RMSNorm((5120,), eps=1e-06)\n",
       "        (post_attention_layernorm): Qwen3RMSNorm((5120,), eps=1e-06)\n",
       "      )\n",
       "    )\n",
       "    (norm): Qwen3RMSNorm((5120,), eps=1e-06)\n",
       "    (rotary_emb): Qwen3RotaryEmbedding()\n",
       "  )\n",
       "  (lm_head): Linear(in_features=5120, out_features=151936, bias=False)\n",
       ")"
      ]
     },
     "execution_count": 5,
     "metadata": {},
     "output_type": "execute_result"
    }
   ],
   "source": [
    "model"
   ]
  },
  {
   "cell_type": "code",
   "execution_count": 6,
   "id": "a3d5be7b-12c4-4e96-b19c-c498203edf9e",
   "metadata": {},
   "outputs": [],
   "source": [
    "from collections import OrderedDict \n",
    "\n",
    "class NewModel(torch.nn.Module):\n",
    "    def __init__(self, model, *args):\n",
    "        super().__init__(*args)\n",
    "        self.selected_out = OrderedDict()\n",
    "\n",
    "        self.pretrained = model.model\n",
    "        self.fhooks = []\n",
    "\n",
    "        for i in range(LAYER_NUM):\n",
    "            self.fhooks.append(self.pretrained.layers[i].self_attn.q_proj\n",
    "                .register_forward_hook(self.forward_hook(\"query_vec_\" + str(i))))\n",
    "            self.fhooks.append(self.pretrained.layers[i].self_attn.k_proj\n",
    "                .register_forward_hook(self.forward_hook(\"key_vec_\" + str(i))))\n",
    "        \n",
    "    \n",
    "    def forward_hook(self, layer_name):\n",
    "        def hook(module, input, output):\n",
    "            self.selected_out[layer_name] = output.cpu()\n",
    "        return hook\n",
    "\n",
    "    def forward(self, x):        \n",
    "        out = self.pretrained(**x.to(device))\n",
    "        return out, self.selected_out\n",
    "    \n",
    "newmodel = NewModel(model)"
   ]
  },
  {
   "cell_type": "code",
   "execution_count": 7,
   "id": "6c266389-414b-454a-a692-db29d1b4b826",
   "metadata": {},
   "outputs": [],
   "source": [
    "def permute_options(options, label, seed):\n",
    "    \"\"\"\n",
    "    A pseudo-random shuffle of the answer <<options>> that also returns new correct answer\n",
    "        parameters:\n",
    "                options --- list of options\n",
    "                label   --- correct answer\n",
    "                seed    --- random seed\n",
    "                \n",
    "    Options 'E' and 'F' are special and must remain at their places\n",
    "    \"\"\"\n",
    "    aaa = np.arange(len(options))\n",
    "    np.random.seed(seed)\n",
    "    np.random.shuffle(aaa)\n",
    "    \n",
    "    new_label = chr(ord('A') + aaa[ord(label) - ord('A')])\n",
    "    new_options = {}\n",
    "    for option in range(len(options)): \n",
    "        new_options[aaa[option]] = options[option]\n",
    "   \n",
    "#    new_options['E'] = options['E']  \n",
    " #   new_options['F'] = options['F']\n",
    "\n",
    "    return dict(sorted(new_options.items())), new_label\n",
    "\n",
    "def format_prompt(elem):\n",
    "    text = \"\"\n",
    "    if \"context\" in elem.keys():\n",
    "        text += \"Context: \" + elem[\"context\"] + \"\\n\"\n",
    "    text += \"Question: \" + elem[\"question\"] + \"\\nOptions:\\n\"\n",
    "    for option in elem['choices'].keys():\n",
    "        text += option + \". \" + str(elem['choices'][option]) + \"\\n\"   \n",
    "    text += \"Answer: \" + elem[\"answer\"] + \"\\n\"\n",
    "    return text\n",
    "    \n",
    "def angular_dist(vec_a, vec_b):\n",
    "    # Without normalization it works much faster and yields better results for some unknown reason\n",
    "    return torch.sum(vec_a * vec_b) #/ (vec_a.norm(p=2) * vec_b.norm(p=2))"
   ]
  },
  {
   "cell_type": "code",
   "execution_count": 8,
   "id": "7e4de555-d894-4bee-ae8d-02a4a65b61ac",
   "metadata": {},
   "outputs": [],
   "source": [
    "from datasets import load_dataset\n",
    "df = load_dataset(\"krammnic/hle-multichoice\")"
   ]
  },
  {
   "cell_type": "code",
   "execution_count": 9,
   "id": "a1961769-b93e-438d-84ee-2d7b52eab41e",
   "metadata": {},
   "outputs": [],
   "source": [
    "from copy import deepcopy\n",
    "\n",
    "def split_options(inp):\n",
    "    inp = inp.replace('  ', ' ')\n",
    "    parts = inp.split(\"Answer Choices:\\n\")\n",
    "    if len(parts) != 2:\n",
    "        print(\"WTF: \", inp)\n",
    "\n",
    "    question = parts[0]\n",
    "    residue = \"\\n\" + parts[1]\n",
    "    options_dict = {}\n",
    "    char = 'A'\n",
    "    while True:\n",
    "        pos = residue.find(\"\\n\" + char + \". \")\n",
    "        if pos == -1:\n",
    "            break\n",
    "\n",
    "        next_char = chr(ord(char) + 1)\n",
    "        pos_n = residue.find(\"\\n\" + next_char + \". \")\n",
    "\n",
    "        if pos_n > 0:\n",
    "            options_dict[char] = deepcopy(residue[4:pos_n])\n",
    "        else:\n",
    "            options_dict[char] = deepcopy(residue[4:])\n",
    "        residue = residue[pos_n:]\n",
    "        char = next_char\n",
    "\n",
    "    return question, options_dict\n",
    "\n",
    "def select_4_options(inp, correct_option):\n",
    "    question, options_total = split_options(inp)\n",
    "\n",
    "    incorrect_keys = np.random.choice(list(options_total.keys()), 4, replace=False).tolist()\n",
    "    if correct_option not in incorrect_keys:\n",
    "        incorrect_keys = incorrect_keys[:3] + [correct_option]\n",
    "\n",
    "    np.random.shuffle(incorrect_keys)\n",
    "    new_correct = 'A'\n",
    "    for i in range(4):\n",
    "        if incorrect_keys[i] == correct_option:\n",
    "            new_correct = chr(ord('A') + i)\n",
    "            break\n",
    "\n",
    "    option_lst = []\n",
    "    for K in incorrect_keys:\n",
    "        option_lst.append(options_total[K])\n",
    "\n",
    "    return question, option_lst, new_correct\n",
    "\n",
    "def process_open_end(entry):\n",
    "    question = entry['question']\n",
    "    option_lst = [entry['incorrect_answer_1'], entry['incorrect_answer_2'], entry['incorrect_answer_3'], entry['correct_answer']]\n",
    "\n",
    "    np.random.shuffle(option_lst)\n",
    "\n",
    "    new_correct = 'A'\n",
    "    for i in range(4):\n",
    "        if option_lst[i] == entry['correct_answer']:\n",
    "            new_correct = chr(ord('A') + i)\n",
    "            break\n",
    "    return question, option_lst, new_correct"
   ]
  },
  {
   "cell_type": "code",
   "execution_count": 10,
   "id": "d78fea42-012a-4512-9c17-cc50556228f4",
   "metadata": {},
   "outputs": [
    {
     "name": "stdout",
     "output_type": "stream",
     "text": [
      "1303 skipped due to NaN\n",
      "2094 skipped due to NaN\n"
     ]
    }
   ],
   "source": [
    "def process_questions():\n",
    "    questions = []\n",
    "    option_lists = []\n",
    "    answers = []\n",
    "    for i in range(len(df['train'])):\n",
    "        if df['train'][i]['answer_type'] == 'exactMatch':\n",
    "            outp = process_open_end(df['train'][i])\n",
    "        else:\n",
    "            outp = select_4_options(df['train'][i]['question'], df['train'][i]['correct_answer'])\n",
    "\n",
    "        if None in outp[1]:\n",
    "            print(i, \"skipped due to NaN\")\n",
    "            continue\n",
    "\n",
    "        questions.append(outp[0])\n",
    "        option_lists.append(outp[1])\n",
    "        answers.append(outp[2])\n",
    "\n",
    "    df_clean = pd.DataFrame.from_dict({'question' : questions, 'options' : option_lists, 'answer' : answers})\n",
    "    return df_clean\n",
    "\n",
    "df_clean = process_questions()\n",
    "df = df_clean.sample(frac=1, random_state=42).reset_index(drop=True)"
   ]
  },
  {
   "cell_type": "code",
   "execution_count": 11,
   "id": "a6d8e63c-9097-4ed4-bcf2-c6234dfa8a8d",
   "metadata": {},
   "outputs": [
    {
     "data": {
      "text/html": [
       "<div>\n",
       "<style scoped>\n",
       "    .dataframe tbody tr th:only-of-type {\n",
       "        vertical-align: middle;\n",
       "    }\n",
       "\n",
       "    .dataframe tbody tr th {\n",
       "        vertical-align: top;\n",
       "    }\n",
       "\n",
       "    .dataframe thead th {\n",
       "        text-align: right;\n",
       "    }\n",
       "</style>\n",
       "<table border=\"1\" class=\"dataframe\">\n",
       "  <thead>\n",
       "    <tr style=\"text-align: right;\">\n",
       "      <th></th>\n",
       "      <th>question</th>\n",
       "      <th>options</th>\n",
       "      <th>answer</th>\n",
       "    </tr>\n",
       "  </thead>\n",
       "  <tbody>\n",
       "    <tr>\n",
       "      <th>0</th>\n",
       "      <td>Which condition of Arrhenius's sixth impossibi...</td>\n",
       "      <td>[Egalitarian Dominance, Weak Non-Sadism, Non-E...</td>\n",
       "      <td>B</td>\n",
       "    </tr>\n",
       "    <tr>\n",
       "      <th>1</th>\n",
       "      <td>The concept of logical \"depth\" mentioned in _T...</td>\n",
       "      <td>[yeya, yeno, yeye, yeyo]</td>\n",
       "      <td>D</td>\n",
       "    </tr>\n",
       "    <tr>\n",
       "      <th>2</th>\n",
       "      <td>Compute the reduced 12-th dimensional Spin bor...</td>\n",
       "      <td>[Z+Z+Z, Z+Z+Z+Z+Z, Z, Z+Z+Z+Z+Z+Z]</td>\n",
       "      <td>B</td>\n",
       "    </tr>\n",
       "    <tr>\n",
       "      <th>3</th>\n",
       "      <td>What is the largest order of a non-cyclic tors...</td>\n",
       "      <td>[18, 6, 24, 12]</td>\n",
       "      <td>A</td>\n",
       "    </tr>\n",
       "    <tr>\n",
       "      <th>4</th>\n",
       "      <td>Let $\\mathfrak{g}$ be the 6-dimensional real L...</td>\n",
       "      <td>[1 + 2x + 4x^2 + 6x^3 + 5x^4 + 3x^5 + x^6, 1 +...</td>\n",
       "      <td>D</td>\n",
       "    </tr>\n",
       "    <tr>\n",
       "      <th>...</th>\n",
       "      <td>...</td>\n",
       "      <td>...</td>\n",
       "      <td>...</td>\n",
       "    </tr>\n",
       "    <tr>\n",
       "      <th>2151</th>\n",
       "      <td>In 2018, Thomas Carrell discovered a set of re...</td>\n",
       "      <td>[11, 8, 13, 15]</td>\n",
       "      <td>A</td>\n",
       "    </tr>\n",
       "    <tr>\n",
       "      <th>2152</th>\n",
       "      <td>Let $ u_r(n) $ denote the minimal order of the...</td>\n",
       "      <td>[{2, 2, 4, 2, 6, 4, 8, 4, 12, 6}, {2, 2, 4, 2,...</td>\n",
       "      <td>C</td>\n",
       "    </tr>\n",
       "    <tr>\n",
       "      <th>2153</th>\n",
       "      <td>Chesterton's character committed misdeeds for ...</td>\n",
       "      <td>[Cairo, Jerusalem, Bethlehem, Bethlehem, Cana,...</td>\n",
       "      <td>C</td>\n",
       "    </tr>\n",
       "    <tr>\n",
       "      <th>2154</th>\n",
       "      <td>By finding formaldehyde's homologs with the ma...</td>\n",
       "      <td>[1, 0, -4/3, -1]</td>\n",
       "      <td>C</td>\n",
       "    </tr>\n",
       "    <tr>\n",
       "      <th>2155</th>\n",
       "      <td>Let $M_n$ be a sparse upper Hessenberg $(2^{n+...</td>\n",
       "      <td>[42/5, 19, 107/4, 73/2]</td>\n",
       "      <td>D</td>\n",
       "    </tr>\n",
       "  </tbody>\n",
       "</table>\n",
       "<p>2156 rows × 3 columns</p>\n",
       "</div>"
      ],
      "text/plain": [
       "                                               question  \\\n",
       "0     Which condition of Arrhenius's sixth impossibi...   \n",
       "1     The concept of logical \"depth\" mentioned in _T...   \n",
       "2     Compute the reduced 12-th dimensional Spin bor...   \n",
       "3     What is the largest order of a non-cyclic tors...   \n",
       "4     Let $\\mathfrak{g}$ be the 6-dimensional real L...   \n",
       "...                                                 ...   \n",
       "2151  In 2018, Thomas Carrell discovered a set of re...   \n",
       "2152  Let $ u_r(n) $ denote the minimal order of the...   \n",
       "2153  Chesterton's character committed misdeeds for ...   \n",
       "2154  By finding formaldehyde's homologs with the ma...   \n",
       "2155  Let $M_n$ be a sparse upper Hessenberg $(2^{n+...   \n",
       "\n",
       "                                                options answer  \n",
       "0     [Egalitarian Dominance, Weak Non-Sadism, Non-E...      B  \n",
       "1                              [yeya, yeno, yeye, yeyo]      D  \n",
       "2                    [Z+Z+Z, Z+Z+Z+Z+Z, Z, Z+Z+Z+Z+Z+Z]      B  \n",
       "3                                       [18, 6, 24, 12]      A  \n",
       "4     [1 + 2x + 4x^2 + 6x^3 + 5x^4 + 3x^5 + x^6, 1 +...      D  \n",
       "...                                                 ...    ...  \n",
       "2151                                    [11, 8, 13, 15]      A  \n",
       "2152  [{2, 2, 4, 2, 6, 4, 8, 4, 12, 6}, {2, 2, 4, 2,...      C  \n",
       "2153  [Cairo, Jerusalem, Bethlehem, Bethlehem, Cana,...      C  \n",
       "2154                                   [1, 0, -4/3, -1]      C  \n",
       "2155                            [42/5, 19, 107/4, 73/2]      D  \n",
       "\n",
       "[2156 rows x 3 columns]"
      ]
     },
     "execution_count": 11,
     "metadata": {},
     "output_type": "execute_result"
    }
   ],
   "source": [
    "df_clean"
   ]
  },
  {
   "cell_type": "code",
   "execution_count": 25,
   "id": "1ff06fab-a841-4e6a-a08b-2216113bc9ab",
   "metadata": {},
   "outputs": [],
   "source": [
    "def do_calc_dev(data, samples_range=range(10000), permute=False, return_logits=False, num=0):\n",
    "    \"\"\"\n",
    "    Parameters:\n",
    "        data      ------- self-explanatory\n",
    "        prompt      ----- Here go examples in case of the Few-Shot prompting. For Zero-shot leave it empty.\n",
    "        samples_range --- Container with numbers of samples to be considered \n",
    "        permute     ----- Specifies if a permutation of answer options is required\n",
    "        return_logits  -- Set True if you need not only the predicted labels, but also row similarities and baseline logits\n",
    "                                    for every possible option A-F\n",
    "    \n",
    "    \"\"\"\n",
    "    true_labels = []\n",
    "    predicted_labels, predicted_raw = [], []\n",
    "    next_token_labels, logits_options = [], []\n",
    "\n",
    "    for LAYER in range(LAYER_NUM):\n",
    "        predicted_labels.append([])\n",
    "        predicted_raw.append([])\n",
    "\n",
    "        for HEAD in range(HEAD_NUM):\n",
    "            predicted_labels[LAYER].append([])\n",
    "            predicted_raw[LAYER].append([])\n",
    "\n",
    "    for EXMPL in tqdm(samples_range):\n",
    "        sample = data.iloc[EXMPL]\n",
    "        \"\"\"\n",
    "        Assembling the prompt from different parts: Examples (if any) + Context + Question + Options + Finisher\n",
    "        \"\"\"\n",
    "        text = \"Think logically and select the correct answer to the following question.\\nQuestion:\" + sample[\"question\"]\n",
    "        encodinds_context_q = tokenizer(text, return_tensors=\"pt\")\n",
    "            \n",
    "        num_q = encodinds_context_q[\"input_ids\"].shape[-1] - 1\n",
    "        encodings_answ, options_answ = [], []\n",
    "        \n",
    "        \"\"\" \n",
    "        For some experiments we need to permute answer options\n",
    "        \"\"\"\n",
    "        options_raw, answer_raw = sample['options'], sample['answer']\n",
    "        \n",
    "        if permute:\n",
    "            options_raw, answer_raw = permute_options(options_raw, answer_raw, EXMPL)\n",
    "        \n",
    "        for option in OPTIONS[:len(sample['options'])]:\n",
    "            options_raw[ord(option) - ord('A')] = str(options_raw[ord(option) - ord('A')])            \n",
    "            text += option + \". \" + options_raw[ord(option) - ord('A')] + \"\\n\"\n",
    "        \n",
    "            encodings_answ.append(tokenizer(option + \". \" + options_raw[ord(option) - ord('A')] + \"\\n\", return_tensors=\"pt\"))\n",
    "        \n",
    "            if len(options_answ) == 0:\n",
    "                options_answ.append(int(num_q + encodings_answ[-1][\"input_ids\"].shape[-1]))\n",
    "            else:\n",
    "                options_answ.append(int(options_answ[-1] + encodings_answ[-1][\"input_ids\"].shape[-1]))\n",
    "\n",
    "        text += \"You can think a little before giving your final answer.\\n\"\n",
    "        inputs = tokenizer(text, return_tensors=\"pt\")\n",
    "        \n",
    "        \"\"\"\n",
    "        If promt format was changed use this to debug:\n",
    "        \n",
    "        print(inputs)\n",
    "        for i in range(len(options_answ)):\n",
    "            print(inputs[\"input_ids\"][..., options_answ[i]]) # <<<<<< This must be aligned\n",
    "        print(\"\\n\\n\", inputs[\"input_ids\"][..., -1])\n",
    "        \"\"\"\n",
    "        with torch.no_grad():\n",
    "            results = model.generate(**inputs.to(device), max_new_tokens=600, pad_token_id=tokenizer.eos_token_id).cpu()\n",
    "            text_ext = tokenizer.batch_decode(results[:, inputs[\"input_ids\"].shape[-1] :], skip_special_tokens=True)[0]\n",
    "\n",
    "      #  print(text_ext)\n",
    "        text_2 = text_ext.split(\"Answer:\")[0] + \"\\nNow provide your final answer. Output one letter only.\\nAnswer:\"\n",
    "\n",
    "        inputs2 = tokenizer(text_2, return_tensors=\"pt\")\n",
    "     #   print(text_2)\n",
    "        inputs2[\"input_ids\"] = torch.cat([inputs[\"input_ids\"].to(device), inputs2[\"input_ids\"][:, 1:].to(device)], -1)\n",
    "        inputs2[\"attention_mask\"] = torch.cat([inputs[\"attention_mask\"].to(device), inputs2[\"attention_mask\"][:, 1:].to(device)], -1)\n",
    "        with torch.no_grad():   \n",
    "            outputs = newmodel(inputs2)\n",
    "\n",
    "        true_labels.append(answer_raw)\n",
    "        for LAYER in range(LAYER_NUM):\n",
    "            for HEAD in range(HEAD_NUM):\n",
    "                predicts = np.zeros(len(options_answ))\n",
    "                for i in range(len(options_answ)):\n",
    "                    predicts[i] = angular_dist(outputs[1][\"query_vec_\" + str(LAYER)][0][-1][HEAD * HEAD_SPAN:(HEAD + 1) * HEAD_SPAN], \n",
    "                                                                                    outputs[1][\"key_vec_\" + str(LAYER)][0][options_answ[i]][(HEAD // QUERIES_PER_KEY) * HEAD_SPAN:((HEAD // QUERIES_PER_KEY) + 1) * HEAD_SPAN])\n",
    "\n",
    "                predicted_labels[LAYER][HEAD].append(chr(np.argmax(predicts) + ord('A')))\n",
    "                if return_logits:\n",
    "                    predicted_raw[LAYER][HEAD].append(predicts)\n",
    "\n",
    "        \"\"\"\n",
    "        This part is for the baseline prediction --- that is an A-F letter which is the most probable next token after prompt.\n",
    "        \"\"\"\n",
    "        logits = (prunned_head @ outputs[0].last_hidden_state[0][-1]).cpu()\n",
    "        logits_full = logits.squeeze(0)\n",
    "        logits_reduced = logits_full.numpy()\n",
    "        \n",
    "        if return_logits:\n",
    "            logits_options.append(logits_reduced)\n",
    "        \n",
    "        next_token_labels.append(chr(ord('A') + np.argmax(logits_reduced)))\n",
    "        \"\"\"\n",
    "        end of baseline part\n",
    "        \"\"\"\n",
    "\n",
    "    for LAYER in range(LAYER_NUM):\n",
    "        predicted_labels[LAYER] = np.array(predicted_labels[LAYER])\n",
    "        if return_logits:\n",
    "            predicted_raw[LAYER] = np.array(predicted_raw[LAYER])\n",
    "\n",
    "    predicted_labels = np.stack(predicted_labels)\n",
    "    \n",
    "    if return_logits:\n",
    "        predicted_raw = np.stack(predicted_raw)\n",
    "        logits_options = np.stack(logits_options)\n",
    "\n",
    "        return true_labels, (predicted_labels, predicted_raw), (next_token_labels, logits_options)\n",
    "    else:\n",
    "        return true_labels, predicted_labels, next_token_labels"
   ]
  },
  {
   "cell_type": "code",
   "execution_count": 14,
   "id": "056ea400-5781-4efb-b9d1-be22b3d2c40b",
   "metadata": {},
   "outputs": [],
   "source": [
    "def get_train_matrix(true_labels, qk_predicts):\n",
    "    mn = np.zeros((LAYER_NUM,HEAD_NUM))\n",
    "    for i in range(LAYER_NUM):\n",
    "        for j in range(HEAD_NUM):\n",
    "            mn[i][j] = np.mean(qk_predicts[i][j] == true_labels)\n",
    "    return (np.argmax(mn.flatten()) // HEAD_NUM, np.argmax(mn.flatten()) % HEAD_NUM), mn\n",
    "\n",
    "def PermutationAccuracy(target1, predict1, target2, predict2):\n",
    "    return np.mean((np.array(target1) == predict1) *  (np.array(target2) == predict2))"
   ]
  },
  {
   "cell_type": "code",
   "execution_count": null,
   "id": "88465ca4-e076-43d2-a3be-f684635281d7",
   "metadata": {},
   "outputs": [
    {
     "name": "stderr",
     "output_type": "stream",
     "text": [
      "  0%|                                                                                                                                                                                                                                | 0/500 [00:00<?, ?it/s]"
     ]
    }
   ],
   "source": [
    "############################# ALTERNATE VERSION #########################################\n",
    "true_labels1, qk_predicts1, baseline_predicts1 = do_calc_dev(df, range(500))\n",
    "true_labels2, qk_predicts2, baseline_predicts2 = do_calc_dev(df, range(500), permute=True)\n",
    "\n",
    "best_head1, mn1 = get_train_matrix(true_labels1, qk_predicts1)\n",
    "print(\"Baseline:\", np.mean(np.array(true_labels1) == baseline_predicts1))\n",
    "print(\"QK:\", mn1.max(), best_head1)\n",
    "sbn.heatmap(mn1)\n",
    "best_head2, mn2 = get_train_matrix(true_labels2, qk_predicts2)\n",
    "print(\"Baseline:\", np.mean(np.array(true_labels2) == baseline_predicts2))\n",
    "print(\"QK:\", mn2.max(), best_head2)\n",
    "############################# ALTERNATE VERSION #########################################"
   ]
  },
  {
   "cell_type": "code",
   "execution_count": null,
   "id": "da247d54-b5df-4743-ae56-3a5de6ceb3df",
   "metadata": {},
   "outputs": [],
   "source": []
  },
  {
   "cell_type": "code",
   "execution_count": null,
   "id": "39703852-b429-4e9b-a7b2-e0692e8b8fd4",
   "metadata": {},
   "outputs": [],
   "source": []
  },
  {
   "cell_type": "code",
   "execution_count": null,
   "id": "47e762d3-6c3c-4c36-a5e6-1c9d1115daec",
   "metadata": {},
   "outputs": [],
   "source": []
  },
  {
   "cell_type": "code",
   "execution_count": 15,
   "id": "eedca260-6817-4997-ad09-d4b933a5e38b",
   "metadata": {},
   "outputs": [
    {
     "name": "stderr",
     "output_type": "stream",
     "text": [
      "100%|████████████████████████████████████████████████████████████████████████████████████████████████████████████████████████████████████████████████████████████████████████████████████████████████████████████████████| 500/500 [2:23:35<00:00, 17.23s/it]\n",
      "100%|████████████████████████████████████████████████████████████████████████████████████████████████████████████████████████████████████████████████████████████████████████████████████████████████████████████████████| 500/500 [2:23:45<00:00, 17.25s/it]\n"
     ]
    }
   ],
   "source": [
    "true_labels1, qk_predicts1, baseline_predicts1 = do_calc_dev(df, range(500))\n",
    "true_labels2, qk_predicts2, baseline_predicts2 = do_calc_dev(df, range(500), permute=True)"
   ]
  },
  {
   "cell_type": "code",
   "execution_count": 16,
   "id": "57a1e4e5-5f98-4760-870c-84460d263125",
   "metadata": {},
   "outputs": [
    {
     "name": "stdout",
     "output_type": "stream",
     "text": [
      "Baseline: 0.336\n",
      "QK: 0.354 (np.int64(31), np.int64(20))\n"
     ]
    },
    {
     "data": {
      "image/png": "[encoded data removed]",
      "text/plain": [
       "<Figure size 640x480 with 2 Axes>"
      ]
     },
     "metadata": {},
     "output_type": "display_data"
    }
   ],
   "source": [
    "best_head1, mn1 = get_train_matrix(true_labels1, qk_predicts1)\n",
    "print(\"Baseline:\", np.mean(np.array(true_labels1) == baseline_predicts1))\n",
    "print(\"QK:\", mn1.max(), best_head1)\n",
    "sbn.heatmap(mn1)\n",
    "plt.savefig(\"pictures/qwen3_qwen14b_hle4_cot.png\")"
   ]
  },
  {
   "cell_type": "code",
   "execution_count": 17,
   "id": "4e4bde9d-1900-41d1-a1a5-6af8b923e831",
   "metadata": {},
   "outputs": [
    {
     "name": "stdout",
     "output_type": "stream",
     "text": [
      "Baseline: 0.36\n",
      "QK: 0.35 (np.int64(28), np.int64(37))\n"
     ]
    },
    {
     "data": {
      "text/plain": [
       "<Axes: >"
      ]
     },
     "execution_count": 17,
     "metadata": {},
     "output_type": "execute_result"
    },
    {
     "data": {
      "image/png": "[encoded data removed]",
      "text/plain": [
       "<Figure size 640x480 with 2 Axes>"
      ]
     },
     "metadata": {},
     "output_type": "display_data"
    }
   ],
   "source": [
    "best_head2, mn2 = get_train_matrix(true_labels2, qk_predicts2)\n",
    "print(\"Baseline:\", np.mean(np.array(true_labels2) == baseline_predicts2))\n",
    "print(\"QK:\", mn2.max(), best_head2)\n",
    "sbn.heatmap(mn2)"
   ]
  },
  {
   "cell_type": "code",
   "execution_count": 18,
   "id": "3b04906a-b10f-4db0-ab96-02c40698c7c5",
   "metadata": {},
   "outputs": [],
   "source": [
    "results_to_report = {\n",
    "    'train_1' : {'true_labels' : true_labels1, 'qk_predicts' : qk_predicts1, 'baseline_predicts' : baseline_predicts1},\n",
    "    'train_2' : {'true_labels' : true_labels2, 'qk_predicts' : qk_predicts2, 'baseline_predicts' : baseline_predicts2}\n",
    "}\n",
    "\n",
    "with open(\"cache/qwen3_qwen14B_HLE4_CoT_train.pkl\", \"wb\") as file:\n",
    "    pickle.dump(results_to_report, file)"
   ]
  },
  {
   "cell_type": "code",
   "execution_count": 19,
   "id": "e0c971e4-3bc2-4f28-b755-21dc4287f6c4",
   "metadata": {},
   "outputs": [],
   "source": [
    "def do_calc_eval(data, head=(0,0), prompt='', samples_range=range(10000), permute=False, num=[0,]):\n",
    "    \"\"\"\n",
    "    Parameters:\n",
    "        data      ------- self-explanatory\n",
    "        head          --- Pair (#LAYER, #HEAD),\n",
    "        prompt      ----- Here go examples in case of the Few-Shot prompting. For Zero-shot leave it empty.\n",
    "        samples_range --- Container with numbers of samples to be considered \n",
    "        permute     ----- Specifies if a permutation of answer options is required    \n",
    "    \"\"\"\n",
    "    true_labels = []\n",
    "    predicted_labels = []\n",
    "    next_token_labels = []\n",
    "    \n",
    "    LAYER, HEAD = head\n",
    "    for EXMPL in tqdm(samples_range):\n",
    "        sample = data.iloc[EXMPL]\n",
    "        \"\"\"\n",
    "        Assembling the prompt from different parts: Examples (if any) + Context + Question + Options + Finisher\n",
    "        \"\"\"\n",
    "        text = \"Think logically and select the correct answer to the following question.\\nQuestion:\" + sample[\"question\"]\n",
    "        encodinds_context_q = tokenizer(text, return_tensors=\"pt\")\n",
    "            \n",
    "        num_q = encodinds_context_q[\"input_ids\"].shape[-1] - 1\n",
    "        encodings_answ, options_answ = [], []\n",
    "        \n",
    "        \"\"\" \n",
    "        For some experiments we need to permute answer options\n",
    "        \"\"\"\n",
    "        options_raw, answer_raw = sample['options'], sample['answer']\n",
    "        \n",
    "        if permute:\n",
    "            options_raw, answer_raw = permute_options(options_raw, answer_raw, EXMPL)\n",
    "        \n",
    "        for option in OPTIONS[:len(sample['options'])]:\n",
    "            options_raw[ord(option) - ord('A')] = str(options_raw[ord(option) - ord('A')])            \n",
    "            text += option + \". \" + options_raw[ord(option) - ord('A')] + \"\\n\"\n",
    "        \n",
    "            encodings_answ.append(tokenizer(option + \". \" + options_raw[ord(option) - ord('A')] + \"\\n\", return_tensors=\"pt\"))\n",
    "        \n",
    "            if len(options_answ) == 0:\n",
    "                options_answ.append(int(num_q + encodings_answ[-1][\"input_ids\"].shape[-1]))\n",
    "            else:\n",
    "                options_answ.append(int(options_answ[-1] + encodings_answ[-1][\"input_ids\"].shape[-1]))\n",
    "\n",
    "\n",
    "        text += \"Think step by step and then give the final answer.\\n\"\n",
    "        inputs = tokenizer(text, return_tensors=\"pt\")\n",
    "        \n",
    "        \"\"\"\n",
    "        If promt format was changed use this to debug:\n",
    "        \n",
    "        print(inputs)\n",
    "        for i in range(len(options_answ)):\n",
    "            print(inputs[\"input_ids\"][..., options_answ[i]]) # <<<<<< This must be aligned\n",
    "        print(\"\\n\\n\", inputs[\"input_ids\"][..., -1])\n",
    "        \"\"\"\n",
    "        with torch.no_grad():\n",
    "            results = model.generate(**inputs.to(device), max_new_tokens=600, pad_token_id=tokenizer.eos_token_id).cpu()\n",
    "            text_ext = tokenizer.batch_decode(results[:, inputs[\"input_ids\"].shape[-1] :], skip_special_tokens=True)[0]\n",
    "\n",
    "        text_2 = text_ext.split(\"The final answer is:\")[0] + \"\\nNow provide your final answer. Output one letter only.\\nAnswer:\"\n",
    "\n",
    "        inputs2 = tokenizer(text_2, return_tensors=\"pt\")\n",
    "        inputs2[\"input_ids\"] = torch.cat([inputs[\"input_ids\"].to(device), inputs2[\"input_ids\"].to(device)], -1)\n",
    "        inputs2[\"attention_mask\"] = torch.cat([inputs[\"attention_mask\"].to(device), inputs2[\"attention_mask\"].to(device)], -1)\n",
    "        with torch.no_grad():   \n",
    "            outputs = newmodel(inputs2)\n",
    "\n",
    "        true_labels.append(answer_raw)\n",
    "\n",
    "        predicts = np.zeros(len(options_answ))\n",
    "        for i in range(len(options_answ)):\n",
    "            predicts[i] = angular_dist(outputs[1][\"query_vec_\" + str(LAYER)][0][-1][HEAD * HEAD_SPAN:(HEAD + 1) * HEAD_SPAN], \n",
    "                                                                            outputs[1][\"key_vec_\" + str(LAYER)][0][options_answ[i]][(HEAD // QUERIES_PER_KEY) * HEAD_SPAN:((HEAD // QUERIES_PER_KEY) + 1) * HEAD_SPAN])\n",
    "\n",
    "        predicted_labels.append(chr(np.argmax(predicts) + ord('A')))\n",
    "        \"\"\"\n",
    "        This part is for the baseline prediction --- that is an A-F letter which is the most probable next token after prompt.\n",
    "        \"\"\"\n",
    "        logits = (prunned_head @ outputs[0].last_hidden_state[0][-1]).cpu()\n",
    "        logits_full = logits.squeeze(0)\n",
    "        logits_reduced = logits_full.numpy()\n",
    "\n",
    "        \n",
    "        next_token_labels.append(chr(ord('A') + np.argmax(logits_reduced)))\n",
    "        \"\"\"\n",
    "        end of baseline part\n",
    "        \"\"\"\n",
    "\n",
    "    predicted_labels = np.stack(predicted_labels)\n",
    "    return true_labels, predicted_labels, next_token_labels"
   ]
  },
  {
   "cell_type": "markdown",
   "id": "227a64db-8af5-44d0-b0a3-517fa18b0d34",
   "metadata": {},
   "source": [
    "### Main calculations"
   ]
  },
  {
   "cell_type": "code",
   "execution_count": 20,
   "id": "ebe8d9a2-64d7-4f35-afd1-0a26c4c49341",
   "metadata": {},
   "outputs": [
    {
     "name": "stderr",
     "output_type": "stream",
     "text": [
      "100%|██████████████████████████████████████████████████████████████████████████████████████████████████████████████████████████████████████████████████████████████████████████████████████████████████████████████████| 1600/1600 [7:38:43<00:00, 17.20s/it]\n"
     ]
    }
   ],
   "source": [
    "eval_dict = do_calc_eval(df, head=best_head1, samples_range=range(500,2100))"
   ]
  },
  {
   "cell_type": "code",
   "execution_count": 21,
   "id": "a569c3a9-42c4-4477-9df5-2abfe102ab6b",
   "metadata": {},
   "outputs": [
    {
     "name": "stdout",
     "output_type": "stream",
     "text": [
      "Test performance:\n",
      "Baseline Accuracy: 0.330625\n",
      "QK-score Accuracy: 0.290625\n"
     ]
    }
   ],
   "source": [
    "print(\"Test performance:\")\n",
    "baseline_acc = np.mean(np.array(eval_dict[0]) == eval_dict[2])\n",
    "qk_score_acc = np.mean(np.array(eval_dict[0]) == eval_dict[1])\n",
    "print(\"Baseline Accuracy:\", baseline_acc)\n",
    "print(\"QK-score Accuracy:\", qk_score_acc) "
   ]
  },
  {
   "cell_type": "code",
   "execution_count": 22,
   "id": "6b0814fc-f98c-41af-b613-c949fb9c262b",
   "metadata": {},
   "outputs": [],
   "source": [
    "results_to_report_test = {\n",
    "    'baseline' : {'acc' : baseline_acc},\n",
    "    'qk_score' : {'acc' : qk_score_acc}\n",
    "}\n",
    "with open(\"qwen3_Qwen-14b_HLE4_CoT_test.pkl\", \"wb\") as file:\n",
    "    pickle.dump(results_to_report_test, file)"
   ]
  },
  {
   "cell_type": "code",
   "execution_count": null,
   "id": "6aae6f18-0480-40a5-b3ec-35818bc56a8f",
   "metadata": {},
   "outputs": [],
   "source": []
  }
 ],
 "metadata": {
  "kernelspec": {
   "display_name": "Python 3 (ipykernel)",
   "language": "python",
   "name": "python3"
  },
  "language_info": {
   "codemirror_mode": {
    "name": "ipython",
    "version": 3
   },
   "file_extension": ".py",
   "mimetype": "text/x-python",
   "name": "python",
   "nbconvert_exporter": "python",
   "pygments_lexer": "ipython3",
   "version": "3.13.7"
  }
 },
 "nbformat": 4,
 "nbformat_minor": 5
}
